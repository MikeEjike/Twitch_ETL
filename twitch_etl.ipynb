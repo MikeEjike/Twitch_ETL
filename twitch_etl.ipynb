{
 "cells": [
  {
   "cell_type": "code",
   "execution_count": 14,
   "metadata": {},
   "outputs": [],
   "source": [
    "import os\n",
    "import pandas as pd\n",
    "import requests\n",
    "from bs4 import BeautifulSoup\n",
    "from splinter import Browser\n",
    "from urllib.parse import urljoin\n"
   ]
  },
  {
   "cell_type": "code",
   "execution_count": 93,
   "metadata": {},
   "outputs": [],
   "source": [
    "# Set path to browser & start splinter\n",
    "browser = Browser('chrome')\n",
    "url = \"https://www.twitch.tv/directory?sort=VIEWER_COUNT\"\n",
    "browser.visit(url)"
   ]
  },
  {
   "cell_type": "code",
   "execution_count": 98,
   "metadata": {
    "scrolled": true
   },
   "outputs": [
    {
     "name": "stdout",
     "output_type": "stream",
     "text": [
      "['582K viewers', '381K viewers', '225K viewers', '218K viewers', '210K viewers', '134K viewers', '126K viewers', '106K viewers', '101K viewers', '96.9K viewers', '58.4K viewers', '54.4K viewers', '52.5K viewers', '47.1K viewers', '46.3K viewers', '44.7K viewers', '40.1K viewers', '35.2K viewers', '33.7K viewers', '30.2K viewers', '28.4K viewers', '28.1K viewers', '27.6K viewers', '26.9K viewers', '26K viewers']\n"
     ]
    }
   ],
   "source": [
    "html = browser.html\n",
    "soup = BeautifulSoup(html, 'html.parser')\n",
    "\n",
    "top_25_titles = []\n",
    "top_25_total_viewers = []\n",
    "all_divs = []\n",
    "all_hrefs = []\n",
    "\n",
    "for div in range(25):\n",
    "    each_div = soup.find(attrs = {\"style\" : f\"order: {div};\"} )\n",
    "    each_href = each_div.find('a', href = True)[\"href\"]\n",
    "    title = each_div.find(\"span\").text\n",
    "    total_viewers = each_div.find(\"p\").text\n",
    "    \n",
    "    all_divs.append(each_div)\n",
    "    all_hrefs.append(each_href)\n",
    "    top_25_titles.append(title)\n",
    "    top_25_total_viewers.append(total_viewers)\n",
    "    \n",
    "top_25_total_viewers = [x.strip(' viewers') for x in top_25_total_viewers]\n",
    "print(top_25_total_viewers)\n"
   ]
  },
  {
   "cell_type": "code",
   "execution_count": 96,
   "metadata": {},
   "outputs": [
    {
     "name": "stdout",
     "output_type": "stream",
     "text": [
      "['582K', '381K', '225K', '218K', '210K', '134K', '126K', '106K', '101K', '96.9K', '58.4K', '54.4K', '52.5K', '47.1K', '46.3K', '44.7K', '40.1K', '35.2K', '33.7K', '30.2K', '28.4K', '28.1K', '27.6K', '26.9K', '26K']\n"
     ]
    }
   ],
   "source": [
    "print([x.strip(' viewers') for x in top_25_total_viewers])"
   ]
  },
  {
   "cell_type": "code",
   "execution_count": 76,
   "metadata": {
    "scrolled": true
   },
   "outputs": [
    {
     "data": {
      "text/plain": [
       "<div data-target=\"\" style=\"order: 24;\"><div class=\"tw-mg-b-2 tw-relative\" data-target=\"directory-page__card-container\"><div><div class=\"tw-pd-b-2\"><div class=\"tw-box-art-card\" data-a-id=\"card-Hearthstone\" data-a-target=\"card-24\"><div class=\"tw-card tw-relative\"><div class=\"tw-flex tw-flex-column tw-flex-nowrap\"><a class=\"tw-box-art-card__link tw-link\" data-a-id=\"card-Hearthstone\" data-a-target=\"tw-box-art-card-link\" href=\"/directory/game/Hearthstone\"><div class=\"ScWrapper-uo2e2v-0 jtdNhs tw-hover-accent-effect\"><div class=\"ScTransformWrapper-uo2e2v-1 ScCornerTop-uo2e2v-2 bJiWFN\"></div><div class=\"ScTransformWrapper-uo2e2v-1 ScCornerBottom-uo2e2v-3 gIKTos\"></div><div class=\"ScTransformWrapper-uo2e2v-1 ScEdgeLeft-uo2e2v-4 exzQCK\"></div><div class=\"ScTransformWrapper-uo2e2v-1 ScEdgeBottom-uo2e2v-5 JihsO\"></div><div class=\"ScTransformWrapper-uo2e2v-1 ihchdw\"><div class=\"tw-box-art-card__image\" data-a-target=\"tw-card-image\" data-test-selector=\"tw-card-image\"><div class=\"game-card__image tw-transition tw-transition--enter-done tw-transition__fade tw-transition__fade--enter-done\" style=\"transition-delay: 0ms; transition-duration: 100ms;\"><div class=\"tw-card-img tw-flex-shrink-0 tw-overflow-hidden\"><div class=\"ScAspectRatio-sc-1sw3lwy-1 dNNaBC tw-aspect\"><div class=\"ScAspectSpacer-sc-1sw3lwy-0 jJEpcJ\"></div><img alt=\"Hearthstone cover image\" class=\"tw-image\" src=\"https://static-cdn.jtvnw.net/ttv-boxart/Hearthstone-285x380.jpg\"/></div></div></div></div></div></div></a><div class=\"tw-card-body tw-relative\"><div class=\"tw-flex\"><div class=\"tw-ellipsis tw-flex-grow-1 tw-flex-shrink-1 tw-mg-t-05\" data-a-target=\"tw-card-title\" data-test-selector=\"tw-card-title\"><span class=\"tw-c-text-alt\"><a class=\"tw-link tw-link--hover-underline-none tw-link--inherit\" data-a-id=\"card-Hearthstone\" data-a-target=\"card-24\" href=\"/directory/game/Hearthstone\"><h3 class=\"tw-ellipsis tw-font-size-5 tw-line-height-body\" title=\"Hearthstone\">Hearthstone</h3></a></span></div></div><p class=\"tw-c-text-alt-2 tw-ellipsis\"><a aria-label=\"27.2K viewers for Hearthstone\" class=\"tw-link tw-link--hover-underline-none tw-link--inherit\" data-a-id=\"card-Hearthstone\" data-a-target=\"card-24\" href=\"/directory/game/Hearthstone\">27.2K viewers</a></p></div></div></div><div class=\"tw-mg-t-05\"><div class=\"tw-full-width tw-inline-block\"><div class=\"tw-align-middle tw-font-size-7 tw-inline-block tw-mg-b-05 tw-mg-r-0\"><button aria-label=\"Card &amp; Board Game\" class=\"tw-border-radius-rounded tw-inline-flex tw-semibold tw-tag\" data-a-target=\"Card &amp; Board Game\"><div class=\"tw-align-items-center tw-flex tw-font-size-7 tw-tag__content\">Card &amp; Board Game</div></button></div></div></div></div></div></div></div></div>"
      ]
     },
     "execution_count": 76,
     "metadata": {},
     "output_type": "execute_result"
    }
   ],
   "source": [
    "html = browser.html\n",
    "soup = BeautifulSoup(html, 'html.parser')\n",
    "all_div = soup.find(attrs = {\"style\" : f\"order: {div};\"} )\n",
    "all_div"
   ]
  },
  {
   "cell_type": "code",
   "execution_count": 89,
   "metadata": {},
   "outputs": [
    {
     "data": {
      "text/plain": [
       "'27.2K viewers'"
      ]
     },
     "execution_count": 89,
     "metadata": {},
     "output_type": "execute_result"
    }
   ],
   "source": [
    "all_div.find(\"p\").text"
   ]
  },
  {
   "cell_type": "code",
   "execution_count": 80,
   "metadata": {},
   "outputs": [
    {
     "data": {
      "text/plain": [
       "<a aria-label=\"Twitch Home\" class=\"tw-link\" data-a-target=\"home-link\" href=\"/\"><div class=\"ScLogoContainer-cdc1ai-0 fmatTN tw-animated-glitch-logo\"><figure class=\"ScFigure-cdc1ai-1 fJrzHp\"><svg class=\"ScSvg-cdc1ai-2 fMOUeO\" height=\"40px\" overflow=\"visible\" version=\"1.1\" viewbox=\"0 0 40 40\" width=\"40px\" x=\"0px\" y=\"0px\"><g><polygon class=\"ScBody-cdc1ai-3 iMXlFV\" points=\"13 8 8 13 8 31 14 31 14 36 19 31 23 31 32 22 32 8\"><animate attributename=\"points\" begin=\"indefinite\" calcmode=\"spline\" dur=\"150ms\" fill=\"freeze\" from=\"13 8 8 13 8 31 14 31 14 36 19 31 23 31 32 22 32 8\" keysplines=\"0.25 0.1 0.25 1\" keytimes=\"0; 1\" to=\"16 5 8 13 8 31 14 31 14 36 19 31 23 31 35 19 35 5\"></animate><animate attributename=\"points\" begin=\"indefinite\" calcmode=\"spline\" dur=\"250ms\" fill=\"freeze\" from=\"16 5 8 13 8 31 14 31 14 36 19 31 23 31 35 19 35 5\" keysplines=\"0.25 0.1 0.25 1\" keytimes=\"0; 1\" to=\"13 8 8 13 8 31 14 31 14 36 19 31 23 31 32 22 32 8\"></animate><animate attributename=\"points\" begin=\"indefinite\" calcmode=\"spline\" dur=\"50ms\" fill=\"freeze\" from=\"16 5 8 13 8 31 14 31 14 36 19 31 23 31 35 19 35 5\" keysplines=\"0.25 0.1 0.25 1\" keytimes=\"0; 1\" to=\"13 8 8 13 8 31 14 31 14 36 19 31 23 31 32 22 32 8\"></animate><animate attributename=\"points\" begin=\"indefinite\" calcmode=\"spline\" dur=\"75ms\" fill=\"freeze\" from=\"13 8 8 13 8 31 14 31 14 36 19 31 23 31 32 22 32 8\" keysplines=\"0.25 0.1 0.25 1\" keytimes=\"0; 1\" to=\"16 5 8 13 8 31 14 31 14 36 19 31 23 31 35 19 35 5\"></animate></polygon><polygon class=\"ScFace-cdc1ai-4 eKFQBH\" points=\"26 25 30 21 30 10 14 10 14 25 18 25 18 29 22 25\"><animatetransform attributename=\"transform\" begin=\"indefinite\" calcmode=\"spline\" dur=\"150ms\" fill=\"freeze\" from=\"0 0\" keysplines=\"0.25 0.1 0.25 1\" keytimes=\"0; 1\" to=\"3 -3\" type=\"translate\"></animatetransform><animatetransform attributename=\"transform\" begin=\"indefinite\" calcmode=\"spline\" dur=\"250ms\" fill=\"freeze\" from=\"3 -3\" keysplines=\"0.25 0.1 0.25 1\" keytimes=\"0; 1\" to=\"0 0\" type=\"translate\"></animatetransform><animatetransform attributename=\"transform\" begin=\"indefinite\" calcmode=\"spline\" dur=\"50ms\" fill=\"freeze\" from=\"3 -3\" keysplines=\"0.25 0.1 0.25 1\" keytimes=\"0; 1\" to=\"0 0\" type=\"translate\"></animatetransform><animatetransform attributename=\"transform\" begin=\"indefinite\" calcmode=\"spline\" dur=\"75ms\" fill=\"freeze\" from=\"0 0\" keysplines=\"0.25 0.1 0.25 1\" keytimes=\"0; 1\" to=\"3 -3\" type=\"translate\"></animatetransform></polygon><g class=\"ScEyes-cdc1ai-5 itWjTv\"><path class=\"ScBody-cdc1ai-3 iMXlFV\" d=\"M20,14 L22,14 L22,20 L20,20 L20,14 Z M27,14 L27,20 L25,20 L25,14 L27,14 Z\"><animatetransform attributename=\"transform\" begin=\"indefinite\" calcmode=\"spline\" dur=\"150ms\" fill=\"freeze\" from=\"0 0\" keysplines=\"0.25 0.1 0.25 1\" keytimes=\"0; 1\" to=\"3 -3\" type=\"translate\"></animatetransform><animatetransform attributename=\"transform\" begin=\"indefinite\" calcmode=\"spline\" dur=\"250ms\" fill=\"freeze\" from=\"3 -3\" keysplines=\"0.25 0.1 0.25 1\" keytimes=\"0; 1\" to=\"0 0\" type=\"translate\"></animatetransform><animatetransform attributename=\"transform\" begin=\"indefinite\" calcmode=\"spline\" dur=\"50ms\" fill=\"freeze\" from=\"3 -3\" keysplines=\"0.25 0.1 0.25 1\" keytimes=\"0; 1\" to=\"0 0\" type=\"translate\"></animatetransform><animatetransform attributename=\"transform\" begin=\"indefinite\" calcmode=\"spline\" dur=\"75ms\" fill=\"freeze\" from=\"0 0\" keysplines=\"0.25 0.1 0.25 1\" keytimes=\"0; 1\" to=\"3 -3\" type=\"translate\"></animatetransform></path></g></g></svg></figure></div></a>"
      ]
     },
     "execution_count": 80,
     "metadata": {},
     "output_type": "execute_result"
    }
   ],
   "source": [
    "all_href = []\n",
    "for a in soup.find_all('a', href=True):\n",
    "    href = a['href']\n",
    "soup.find('a', href=True)"
   ]
  },
  {
   "cell_type": "code",
   "execution_count": null,
   "metadata": {},
   "outputs": [],
   "source": []
  }
 ],
 "metadata": {
  "kernelspec": {
   "display_name": "Python 3",
   "language": "python",
   "name": "python3"
  },
  "language_info": {
   "codemirror_mode": {
    "name": "ipython",
    "version": 3
   },
   "file_extension": ".py",
   "mimetype": "text/x-python",
   "name": "python",
   "nbconvert_exporter": "python",
   "pygments_lexer": "ipython3",
   "version": "3.8.3"
  }
 },
 "nbformat": 4,
 "nbformat_minor": 4
}
