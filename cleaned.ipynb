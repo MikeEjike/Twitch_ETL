{
 "cells": [
  {
   "cell_type": "code",
   "execution_count": 27,
   "metadata": {},
   "outputs": [],
   "source": [
    "# Import Dependencies\n",
    "import pymongo\n",
    "import requests\n",
    "import pandas as pd\n",
    "import time\n",
    "from bs4 import BeautifulSoup\n",
    "from splinter import Browser\n",
    "from urllib.parse import urljoin\n",
    "from pymongo import MongoClient\n",
    "from sqlalchemy import create_engine"
   ]
  },
  {
   "cell_type": "code",
   "execution_count": 75,
   "metadata": {},
   "outputs": [],
   "source": [
    "browser = Browser('chrome')\n",
    "url = 'https://twitchtracker.com/'\n",
    "browser.visit(url)"
   ]
  },
  {
   "cell_type": "code",
   "execution_count": 76,
   "metadata": {},
   "outputs": [],
   "source": [
    "html = browser.html\n",
    "soup = BeautifulSoup(html, 'html.parser')"
   ]
  },
  {
   "cell_type": "code",
   "execution_count": 77,
   "metadata": {},
   "outputs": [],
   "source": [
    "def scrape_all(url):\n",
    "\n",
    "    page_number = 0\n",
    "    all_games = []\n",
    "\n",
    "    for x in range(1,11):\n",
    "        page_number = page_number +1\n",
    "        browser.visit(f'https://twitchtracker.com/games?page={x}')\n",
    "        html = browser.html\n",
    "        soup = BeautifulSoup(html, 'html.parser')\n",
    "\n",
    "        current_games = top_games(page_number)\n",
    "        all_games = all_games + current_games\n",
    "    return all_games\n",
    "    "
   ]
  },
  {
   "cell_type": "code",
   "execution_count": 78,
   "metadata": {},
   "outputs": [],
   "source": [
    "def top_games(page_number):\n",
    "    game_list = []\n",
    "    html = browser.html\n",
    "    soup = BeautifulSoup(html, 'html.parser')\n",
    "    all_div = soup.body.findAll('div', class_ = \"ranked-item\")\n",
    "\n",
    "    for div in all_div:\n",
    "        game = game_info(div)\n",
    "        game_list.append(game) \n",
    "    return game_list"
   ]
  },
  {
   "cell_type": "code",
   "execution_count": 79,
   "metadata": {},
   "outputs": [],
   "source": [
    "def game_info(html_element):\n",
    "    game_data = {}\n",
    "    streamer_data = []\n",
    "    game_data['Current Rank'] = html_element.find('div', class_ = \"ri-position hidden-xxs\").text\n",
    "    game_data['Game Title'] = html_element.find('div', class_ = \"ri-name\").text\n",
    "    game_data['Live Viewers'] = html_element.find('div', class_ = \"ri-value\").text\n",
    "    \n",
    "    link = html_element.a['href']\n",
    "    game_streamers_url = urljoin(url, link)\n",
    "    browser.click_link_by_href(link)\n",
    "#     game_link.click()\n",
    "#     game_streamers_url.click()\n",
    "    streamer_data['Streamers'] = top_streamers(game_streamers_url)    \n",
    "    browser.back()\n",
    "\n",
    "\n",
    "    \n",
    "    return game_data"
   ]
  },
  {
   "cell_type": "code",
   "execution_count": 83,
   "metadata": {},
   "outputs": [],
   "source": [
    "def top_streamers(url):\n",
    "    streamer_list = {}\n",
    "#     browser.visit(url)\n",
    "    html = browser.html\n",
    "    soup = BeautifulSoup(html, 'html.parser')\n",
    "    tables = soup.find_all(\"tbody\")\n",
    "    \n",
    "    top_list = []\n",
    "#     bottom_list = []\n",
    "    for top in tables[3].find_all(\"td\"):\n",
    "        top_list.append(top.text.strip())\n",
    "#     for bottom in tables[4].find_all(\"td\"):\n",
    "#         bottom_list.append(bottom.text.strip())\n",
    "    \n",
    "    top_list_names = top_list[::2]\n",
    "#     bottom_list_names = bottom_list[::2]\n",
    "#     streamer_names_list = top_list_names + bottom_list_names\n",
    "    \n",
    "    top_list_views = top_list[1::2]\n",
    "#     bottom_list_views = bottom_list[1::2]\n",
    "#     streamer_views_list = top_list_views + bottom_list_views\n",
    "    \n",
    "    streamer_list['Streamers'] = top_list_names\n",
    "    streamer_list['Live Views'] = top_list_views\n",
    "    \n",
    "        \n",
    "    return streamer_list"
   ]
  },
  {
   "cell_type": "code",
   "execution_count": 84,
   "metadata": {},
   "outputs": [
    {
     "ename": "TypeError",
     "evalue": "list indices must be integers or slices, not str",
     "output_type": "error",
     "traceback": [
      "\u001b[1;31m---------------------------------------------------------------------------\u001b[0m",
      "\u001b[1;31mTypeError\u001b[0m                                 Traceback (most recent call last)",
      "\u001b[1;32m<ipython-input-84-c1a759352871>\u001b[0m in \u001b[0;36m<module>\u001b[1;34m\u001b[0m\n\u001b[1;32m----> 1\u001b[1;33m \u001b[0mscrape_all\u001b[0m\u001b[1;33m(\u001b[0m\u001b[0murl\u001b[0m\u001b[1;33m)\u001b[0m\u001b[1;33m\u001b[0m\u001b[1;33m\u001b[0m\u001b[0m\n\u001b[0m",
      "\u001b[1;32m<ipython-input-77-5ee5838e6eab>\u001b[0m in \u001b[0;36mscrape_all\u001b[1;34m(url)\u001b[0m\n\u001b[0;32m     10\u001b[0m         \u001b[0msoup\u001b[0m \u001b[1;33m=\u001b[0m \u001b[0mBeautifulSoup\u001b[0m\u001b[1;33m(\u001b[0m\u001b[0mhtml\u001b[0m\u001b[1;33m,\u001b[0m \u001b[1;34m'html.parser'\u001b[0m\u001b[1;33m)\u001b[0m\u001b[1;33m\u001b[0m\u001b[1;33m\u001b[0m\u001b[0m\n\u001b[0;32m     11\u001b[0m \u001b[1;33m\u001b[0m\u001b[0m\n\u001b[1;32m---> 12\u001b[1;33m         \u001b[0mcurrent_games\u001b[0m \u001b[1;33m=\u001b[0m \u001b[0mtop_games\u001b[0m\u001b[1;33m(\u001b[0m\u001b[0mpage_number\u001b[0m\u001b[1;33m)\u001b[0m\u001b[1;33m\u001b[0m\u001b[1;33m\u001b[0m\u001b[0m\n\u001b[0m\u001b[0;32m     13\u001b[0m         \u001b[0mall_games\u001b[0m \u001b[1;33m=\u001b[0m \u001b[0mall_games\u001b[0m \u001b[1;33m+\u001b[0m \u001b[0mcurrent_games\u001b[0m\u001b[1;33m\u001b[0m\u001b[1;33m\u001b[0m\u001b[0m\n\u001b[0;32m     14\u001b[0m     \u001b[1;32mreturn\u001b[0m \u001b[0mall_games\u001b[0m\u001b[1;33m\u001b[0m\u001b[1;33m\u001b[0m\u001b[0m\n",
      "\u001b[1;32m<ipython-input-78-36fbb9fa76cc>\u001b[0m in \u001b[0;36mtop_games\u001b[1;34m(page_number)\u001b[0m\n\u001b[0;32m      6\u001b[0m \u001b[1;33m\u001b[0m\u001b[0m\n\u001b[0;32m      7\u001b[0m     \u001b[1;32mfor\u001b[0m \u001b[0mdiv\u001b[0m \u001b[1;32min\u001b[0m \u001b[0mall_div\u001b[0m\u001b[1;33m:\u001b[0m\u001b[1;33m\u001b[0m\u001b[1;33m\u001b[0m\u001b[0m\n\u001b[1;32m----> 8\u001b[1;33m         \u001b[0mgame\u001b[0m \u001b[1;33m=\u001b[0m \u001b[0mgame_info\u001b[0m\u001b[1;33m(\u001b[0m\u001b[0mdiv\u001b[0m\u001b[1;33m)\u001b[0m\u001b[1;33m\u001b[0m\u001b[1;33m\u001b[0m\u001b[0m\n\u001b[0m\u001b[0;32m      9\u001b[0m         \u001b[0mgame_list\u001b[0m\u001b[1;33m.\u001b[0m\u001b[0mappend\u001b[0m\u001b[1;33m(\u001b[0m\u001b[0mgame\u001b[0m\u001b[1;33m)\u001b[0m\u001b[1;33m\u001b[0m\u001b[1;33m\u001b[0m\u001b[0m\n\u001b[0;32m     10\u001b[0m     \u001b[1;32mreturn\u001b[0m \u001b[0mgame_list\u001b[0m\u001b[1;33m\u001b[0m\u001b[1;33m\u001b[0m\u001b[0m\n",
      "\u001b[1;32m<ipython-input-79-b5150ddd1372>\u001b[0m in \u001b[0;36mgame_info\u001b[1;34m(html_element)\u001b[0m\n\u001b[0;32m     11\u001b[0m \u001b[1;31m#     game_link.click()\u001b[0m\u001b[1;33m\u001b[0m\u001b[1;33m\u001b[0m\u001b[1;33m\u001b[0m\u001b[0m\n\u001b[0;32m     12\u001b[0m \u001b[1;31m#     game_streamers_url.click()\u001b[0m\u001b[1;33m\u001b[0m\u001b[1;33m\u001b[0m\u001b[1;33m\u001b[0m\u001b[0m\n\u001b[1;32m---> 13\u001b[1;33m     \u001b[0mstreamer_data\u001b[0m\u001b[1;33m[\u001b[0m\u001b[1;34m'Streamers'\u001b[0m\u001b[1;33m]\u001b[0m \u001b[1;33m=\u001b[0m \u001b[0mtop_streamers\u001b[0m\u001b[1;33m(\u001b[0m\u001b[0mgame_streamers_url\u001b[0m\u001b[1;33m)\u001b[0m\u001b[1;33m\u001b[0m\u001b[1;33m\u001b[0m\u001b[0m\n\u001b[0m\u001b[0;32m     14\u001b[0m     \u001b[0mbrowser\u001b[0m\u001b[1;33m.\u001b[0m\u001b[0mback\u001b[0m\u001b[1;33m(\u001b[0m\u001b[1;33m)\u001b[0m\u001b[1;33m\u001b[0m\u001b[1;33m\u001b[0m\u001b[0m\n\u001b[0;32m     15\u001b[0m \u001b[1;33m\u001b[0m\u001b[0m\n",
      "\u001b[1;31mTypeError\u001b[0m: list indices must be integers or slices, not str"
     ]
    }
   ],
   "source": [
    "scrape_all(url)"
   ]
  },
  {
   "cell_type": "code",
   "execution_count": 85,
   "metadata": {},
   "outputs": [
    {
     "data": {
      "text/plain": [
       "{'Streamers': ['HasanAbi',\n",
       "  'IlloJuan',\n",
       "  'ZanoXVII',\n",
       "  'MarkitoNavaja',\n",
       "  'CashApp',\n",
       "  'Homyatol',\n",
       "  'orslok',\n",
       "  'chefstrobel',\n",
       "  'Tumblurr',\n",
       "  'Im_Dontai'],\n",
       " 'Live Views': ['46,172',\n",
       "  '17,453',\n",
       "  '17,177',\n",
       "  '14,957',\n",
       "  '11,363',\n",
       "  '11,225',\n",
       "  '10,669',\n",
       "  '10,208',\n",
       "  '9,311',\n",
       "  '8,515']}"
      ]
     },
     "execution_count": 85,
     "metadata": {},
     "output_type": "execute_result"
    }
   ],
   "source": [
    "top_streamers('https://twitchtracker.com/games/509658')"
   ]
  },
  {
   "cell_type": "code",
   "execution_count": null,
   "metadata": {},
   "outputs": [],
   "source": []
  },
  {
   "cell_type": "code",
   "execution_count": null,
   "metadata": {},
   "outputs": [],
   "source": []
  },
  {
   "cell_type": "code",
   "execution_count": null,
   "metadata": {},
   "outputs": [],
   "source": []
  },
  {
   "cell_type": "code",
   "execution_count": null,
   "metadata": {},
   "outputs": [],
   "source": []
  },
  {
   "cell_type": "code",
   "execution_count": null,
   "metadata": {},
   "outputs": [],
   "source": []
  },
  {
   "cell_type": "code",
   "execution_count": null,
   "metadata": {},
   "outputs": [],
   "source": []
  }
 ],
 "metadata": {
  "kernelspec": {
   "display_name": "Python 3",
   "language": "python",
   "name": "python3"
  },
  "language_info": {
   "codemirror_mode": {
    "name": "ipython",
    "version": 3
   },
   "file_extension": ".py",
   "mimetype": "text/x-python",
   "name": "python",
   "nbconvert_exporter": "python",
   "pygments_lexer": "ipython3",
   "version": "3.8.3"
  }
 },
 "nbformat": 4,
 "nbformat_minor": 4
}
