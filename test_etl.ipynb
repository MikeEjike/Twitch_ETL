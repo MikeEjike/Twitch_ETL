{
 "cells": [
  {
   "cell_type": "code",
   "execution_count": 10,
   "metadata": {},
   "outputs": [],
   "source": [
    "import os\n",
    "import pandas as pd\n",
    "import requests\n",
    "import time\n",
    "from bs4 import BeautifulSoup\n",
    "from splinter import Browser\n",
    "from urllib.parse import urljoin\n"
   ]
  },
  {
   "cell_type": "code",
   "execution_count": 17,
   "metadata": {},
   "outputs": [],
   "source": [
    "# Set path to browser & start splinter\n",
    "# browser = Browser('chrome')\n",
    "url = \"https://www.twitch.tv/directory/game/Just%20Chatting?sort=VIEWER_COUNT\"\n",
    "browser.visit(url)"
   ]
  },
  {
   "cell_type": "code",
   "execution_count": 48,
   "metadata": {
    "scrolled": true
   },
   "outputs": [
    {
     "name": "stdout",
     "output_type": "stream",
     "text": [
      "['49.9K', '28.6K', '76.8K', '22.4K', '22.8K', '34.3K', '16.7K', '16.1K', '14.5K', '13.8K', '10.4K', '9.9K', '9.1K', '8.4K', '8.2K', '6.8K', '6.7K', '6.5K', '5.6K', '5.5K', '4.7K', '4.7K', '4.5K', '4.3K', '4.2K']\n"
     ]
    }
   ],
   "source": [
    "html = browser.html\n",
    "soup = BeautifulSoup(html, 'html.parser')\n",
    "\n",
    "top_stream_titles = []\n",
    "top_25_streamers = []\n",
    "all_divs = []\n",
    "all_hrefs = []\n",
    "all_stream_tags = []\n",
    "\n",
    "top_25_stream_viewers = []\n",
    "\n",
    "streamer_info = {}\n",
    "\n",
    "\n",
    "for div in range(25):\n",
    "    each_div = soup.find(attrs = {\"style\" : f\"order: {div};\"} )\n",
    "    each_href = each_div.find('a', href = True)[\"href\"]\n",
    "#     title = each_div.find(\"span\").text\n",
    "    streamer_name = each_div.find(\"p\").text\n",
    "    stream_title = each_div.find(\"h3\").text\n",
    "    stream_tags = each_div.find(\"button\").text\n",
    "#     stream_tags = each_div.findAll(\"button\")\n",
    "    stream_viewers = each_div.find('div', class_ = 'tw-absolute tw-bottom-0 tw-left-0 tw-mg-1').text\n",
    "    \n",
    "    \n",
    "    streamer_info['Streamer Name'] = streamer_name\n",
    "    streamer_info['Stream Title'] = stream_title \n",
    "    streamer_info['Stream Viewers'] = stream_viewers.strip(' viewers')\n",
    "    streamer_info['Stream Tags'] = stream_tags\n",
    "    \n",
    "    all_divs.append(each_div)\n",
    "    all_hrefs.append(each_href)\n",
    "    top_stream_titles.append(stream_title)\n",
    "    top_25_streamers.append(streamer_name)\n",
    "#     all_stream_tags.append(stream_tags)\n",
    "    top_25_stream_viewers.append(stream_viewers)  \n",
    "    \n",
    "top_25_streamers = [x.strip(' viewers') for x in top_25_streamers]\n",
    "top_25_stream_viewers = [y.strip(' viewers') for y in top_25_stream_viewers]\n",
    "print(top_25_stream_viewers)"
   ]
  },
  {
   "cell_type": "code",
   "execution_count": 49,
   "metadata": {},
   "outputs": [
    {
     "name": "stdout",
     "output_type": "stream",
     "text": [
      "['Trymac', 'JackManifoldTV', 'xQcOW', 'Jahrein', 'pokiman', 'HasanAb', 'Homyatol', 'PaladinAmb', 'Mizkif', 'DarioMocciaTwitch', 'Locklea', 'Kitboga', 'Gab', 'nyann', 'unsympathisch_t', 'kianlawley', 'Pimpeano', 'IamCristinin', 'KristoferY', 'grenbaud', 'SmallAnt', 'DeeThan', 'JustaMinx', 'Taylor_Jevaux', 'unicornio']\n"
     ]
    }
   ],
   "source": [
    "print(top_25_streamers)"
   ]
  },
  {
   "cell_type": "code",
   "execution_count": 50,
   "metadata": {},
   "outputs": [
    {
     "data": {
      "text/plain": [
       "{'Streamer Name': 'unicornio',\n",
       " 'Stream Title': 'VIERRRRRRNES 🧉  | !youtube2 ig/tw @germanusinger',\n",
       " 'Stream Viewers': '4.2K',\n",
       " 'Stream Tags': 'Spanish'}"
      ]
     },
     "execution_count": 50,
     "metadata": {},
     "output_type": "execute_result"
    }
   ],
   "source": [
    "streamer_info"
   ]
  },
  {
   "cell_type": "code",
   "execution_count": null,
   "metadata": {},
   "outputs": [],
   "source": []
  },
  {
   "cell_type": "code",
   "execution_count": null,
   "metadata": {},
   "outputs": [],
   "source": []
  },
  {
   "cell_type": "code",
   "execution_count": null,
   "metadata": {},
   "outputs": [],
   "source": []
  },
  {
   "cell_type": "code",
   "execution_count": 16,
   "metadata": {},
   "outputs": [],
   "source": [
    "# Set path to browser & start splinter\n",
    "browser = Browser('chrome')\n",
    "url = \"https://www.twitch.tv/directory?sort=VIEWER_COUNT\"\n",
    "browser.visit(url)"
   ]
  },
  {
   "cell_type": "code",
   "execution_count": 12,
   "metadata": {},
   "outputs": [
    {
     "name": "stdout",
     "output_type": "stream",
     "text": [
      "['585K', '403K', '343K', '319K', '201K', '189K', '144K', '95.8K', '79.8K', '77.6K', '72.9K', '68.7K', '53.9K', '52.9K', '35K', '34.1K', '33.3K', '32.4K', '31.5K', '30.3K', '28.8K', '26.5K', '25.6K', '25.2K', '25K']\n"
     ]
    }
   ],
   "source": [
    "html = browser.html\n",
    "soup = BeautifulSoup(html, 'html.parser')\n",
    "\n",
    "top_25_titles = []\n",
    "top_25_total_viewers = []\n",
    "all_divs = []\n",
    "all_hrefs = []\n",
    "\n",
    "for div in range(25):\n",
    "    each_div = soup.find(attrs = {\"style\" : f\"order: {div};\"} )\n",
    "    each_href = each_div.find('a', href = True)[\"href\"]\n",
    "    title = each_div.find(\"span\").text\n",
    "    total_viewers = each_div.find(\"p\").text\n",
    "    \n",
    "    all_divs.append(each_div)\n",
    "    all_hrefs.append(each_href)\n",
    "    top_25_titles.append(title)\n",
    "    top_25_total_viewers.append(total_viewers)\n",
    "    \n",
    "top_25_total_viewers = [x.strip(' viewers') for x in top_25_total_viewers]\n",
    "print(top_25_total_viewers)"
   ]
  },
  {
   "cell_type": "code",
   "execution_count": null,
   "metadata": {},
   "outputs": [],
   "source": []
  },
  {
   "cell_type": "code",
   "execution_count": null,
   "metadata": {},
   "outputs": [],
   "source": []
  }
 ],
 "metadata": {
  "kernelspec": {
   "display_name": "Python 3",
   "language": "python",
   "name": "python3"
  },
  "language_info": {
   "codemirror_mode": {
    "name": "ipython",
    "version": 3
   },
   "file_extension": ".py",
   "mimetype": "text/x-python",
   "name": "python",
   "nbconvert_exporter": "python",
   "pygments_lexer": "ipython3",
   "version": "3.8.3"
  }
 },
 "nbformat": 4,
 "nbformat_minor": 4
}
