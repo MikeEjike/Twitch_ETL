{
 "cells": [
  {
   "cell_type": "code",
   "execution_count": 10,
   "metadata": {},
   "outputs": [],
   "source": [
    "import os\n",
    "import pandas as pd\n",
    "import requests\n",
    "import time\n",
    "from bs4 import BeautifulSoup\n",
    "from splinter import Browser\n",
    "from urllib.parse import urljoin\n"
   ]
  },
  {
   "cell_type": "code",
   "execution_count": 17,
   "metadata": {},
   "outputs": [],
   "source": [
    "# Set path to browser & start splinter\n",
    "# browser = Browser('chrome')\n",
    "url = \"https://www.twitch.tv/directory/game/Just%20Chatting?sort=VIEWER_COUNT\"\n",
    "browser.visit(url)"
   ]
  },
  {
   "cell_type": "code",
   "execution_count": 18,
   "metadata": {},
   "outputs": [
    {
     "name": "stdout",
     "output_type": "stream",
     "text": [
      "['Trymac', 'HasanAb', 'JackManifoldTV', 'pokiman', 'Jahrein', 'Papaplatt', 'Kitboga', 'Homyatol', 'DarioMocciaTwitch', 'Locklea', 'nyann', 'Gab', 'SmallAnt', 'grenbaud', 'unsympathisch_t', 'Taylor_Jevaux', 'JERICHO', 'DeeThan', 'Pimpeano', 'Mizkif', 'JustaMinx', 'hmattTV', 'unicornio', 'Destiny', 'obb221']\n"
     ]
    }
   ],
   "source": [
    "html = browser.html\n",
    "soup = BeautifulSoup(html, 'html.parser')\n",
    "\n",
    "top_stream_titles = []\n",
    "top_25_total_viewers = []\n",
    "all_divs = []\n",
    "all_hrefs = []\n",
    "\n",
    "for div in range(25):\n",
    "    each_div = soup.find(attrs = {\"style\" : f\"order: {div};\"} )\n",
    "    each_href = each_div.find('a', href = True)[\"href\"]\n",
    "#     title = each_div.find(\"span\").text\n",
    "    total_viewers = each_div.find(\"p\").text\n",
    "    stream_title = each_div.find(\"h3\").text\n",
    "    \n",
    "    all_divs.append(each_div)\n",
    "    all_hrefs.append(each_href)\n",
    "    top_stream_titles.append(title)\n",
    "    top_25_total_viewers.append(total_viewers)\n",
    "    \n",
    "top_25_total_viewers = [x.strip(' viewers') for x in top_25_total_viewers]\n",
    "print(top_25_total_viewers)"
   ]
  },
  {
   "cell_type": "code",
   "execution_count": 16,
   "metadata": {},
   "outputs": [],
   "source": [
    "# Set path to browser & start splinter\n",
    "browser = Browser('chrome')\n",
    "url = \"https://www.twitch.tv/directory?sort=VIEWER_COUNT\"\n",
    "browser.visit(url)"
   ]
  },
  {
   "cell_type": "code",
   "execution_count": 12,
   "metadata": {},
   "outputs": [
    {
     "name": "stdout",
     "output_type": "stream",
     "text": [
      "['585K', '403K', '343K', '319K', '201K', '189K', '144K', '95.8K', '79.8K', '77.6K', '72.9K', '68.7K', '53.9K', '52.9K', '35K', '34.1K', '33.3K', '32.4K', '31.5K', '30.3K', '28.8K', '26.5K', '25.6K', '25.2K', '25K']\n"
     ]
    }
   ],
   "source": [
    "html = browser.html\n",
    "soup = BeautifulSoup(html, 'html.parser')\n",
    "\n",
    "top_25_titles = []\n",
    "top_25_total_viewers = []\n",
    "all_divs = []\n",
    "all_hrefs = []\n",
    "\n",
    "for div in range(25):\n",
    "    each_div = soup.find(attrs = {\"style\" : f\"order: {div};\"} )\n",
    "    each_href = each_div.find('a', href = True)[\"href\"]\n",
    "    title = each_div.find(\"span\").text\n",
    "    total_viewers = each_div.find(\"p\").text\n",
    "    \n",
    "    all_divs.append(each_div)\n",
    "    all_hrefs.append(each_href)\n",
    "    top_25_titles.append(title)\n",
    "    top_25_total_viewers.append(total_viewers)\n",
    "    \n",
    "top_25_total_viewers = [x.strip(' viewers') for x in top_25_total_viewers]\n",
    "print(top_25_total_viewers)"
   ]
  },
  {
   "cell_type": "code",
   "execution_count": null,
   "metadata": {},
   "outputs": [],
   "source": []
  },
  {
   "cell_type": "code",
   "execution_count": null,
   "metadata": {},
   "outputs": [],
   "source": []
  }
 ],
 "metadata": {
  "kernelspec": {
   "display_name": "Python 3",
   "language": "python",
   "name": "python3"
  },
  "language_info": {
   "codemirror_mode": {
    "name": "ipython",
    "version": 3
   },
   "file_extension": ".py",
   "mimetype": "text/x-python",
   "name": "python",
   "nbconvert_exporter": "python",
   "pygments_lexer": "ipython3",
   "version": "3.8.3"
  }
 },
 "nbformat": 4,
 "nbformat_minor": 4
}
