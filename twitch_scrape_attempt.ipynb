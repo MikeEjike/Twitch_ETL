{
 "cells": [
  {
   "cell_type": "code",
   "execution_count": 1,
   "metadata": {},
   "outputs": [],
   "source": [
    "# Import Dependencies\n",
    "import pymongo\n",
    "import requests\n",
    "import pandas as pd\n",
    "from bs4 import BeautifulSoup as soup\n",
    "from splinter import Browser\n",
    "from urllib.parse import urljoin\n",
    "from pymongo import MongoClient\n",
    "from sqlalchemy import create_engine"
   ]
  },
  {
   "cell_type": "code",
   "execution_count": 2,
   "metadata": {},
   "outputs": [],
   "source": [
    "# Set path to browser & start splinter\n",
    "browser = Browser('chrome')\n",
    "url = 'https://twitchtracker.com/games'\n",
    "browser.visit(url)"
   ]
  },
  {
   "cell_type": "code",
   "execution_count": 3,
   "metadata": {},
   "outputs": [],
   "source": [
    "html = browser.html\n",
    "soup_obj = soup(html, 'html.parser')"
   ]
  },
  {
   "cell_type": "code",
   "execution_count": 4,
   "metadata": {
    "scrolled": true
   },
   "outputs": [
    {
     "data": {
      "text/plain": [
       "<body>\n",
       "<div id=\"cf-wrapper\">\n",
       "<div class=\"p-0\" id=\"cf-error-details\">\n",
       "<header class=\"mx-auto pt-10 lg:pt-6 lg:px-8 w-240 lg:w-full mb-8\">\n",
       "<h1 class=\"inline-block sm:block sm:mb-2 font-light text-60 lg:text-4xl text-black-dark leading-tight mr-2\">\n",
       "<span class=\"cf-error-type\">Error</span>\n",
       "<span class=\"cf-error-code\">520</span>\n",
       "</h1>\n",
       "<span class=\"inline-block sm:block font-mono text-15 lg:text-sm lg:leading-relaxed\">Ray ID: 61450ed89838ba4c •</span>\n",
       "<span class=\"inline-block sm:block font-mono text-15 lg:text-sm lg:leading-relaxed\">2021-01-20 01:35:18 UTC</span>\n",
       "<h2 class=\"text-gray-600 leading-1.3 text-3xl font-light\">Web server is returning an unknown error</h2>\n",
       "</header>\n",
       "<div class=\"my-8 bg-gradient-gray\">\n",
       "<div class=\"w-240 lg:w-full mx-auto\">\n",
       "<div class=\"clearfix md:px-8\">\n",
       "<div class=\"relative w-1/3 md:w-full py-15 md:p-0 md:py-8 md:text-left md:border-solid md:border-0 md:border-b md:border-gray-400 overflow-hidden float-left md:float-none text-center\" id=\"cf-browser-status\">\n",
       "<div class=\"relative mb-10 md:m-0\">\n",
       "<span class=\"cf-icon-browser block md:hidden h-20 bg-center bg-no-repeat\"></span>\n",
       "<span class=\"cf-icon-ok w-12 h-12 absolute left-1/2 md:left-auto md:right-0 md:top-0 -ml-6 -bottom-4\"></span>\n",
       "</div>\n",
       "<span class=\"md:block w-full truncate\">You</span>\n",
       "<h3 class=\"md:inline-block mt-3 md:mt-0 text-2xl text-gray-600 font-light leading-1.3\">Browser</h3>\n",
       "<span class=\"leading-1.3 text-2xl text-green-success\">Working</span>\n",
       "</div>\n",
       "<div class=\"relative w-1/3 md:w-full py-15 md:p-0 md:py-8 md:text-left md:border-solid md:border-0 md:border-b md:border-gray-400 overflow-hidden float-left md:float-none text-center\" id=\"cf-cloudflare-status\">\n",
       "<div class=\"relative mb-10 md:m-0\">\n",
       "<span class=\"cf-icon-cloud block md:hidden h-20 bg-center bg-no-repeat\"></span>\n",
       "<span class=\"cf-icon-ok w-12 h-12 absolute left-1/2 md:left-auto md:right-0 md:top-0 -ml-6 -bottom-4\"></span>\n",
       "</div>\n",
       "<span class=\"md:block w-full truncate\">Atlanta</span>\n",
       "<h3 class=\"md:inline-block mt-3 md:mt-0 text-2xl text-gray-600 font-light leading-1.3\">Cloudflare</h3>\n",
       "<span class=\"leading-1.3 text-2xl text-green-success\">Working</span>\n",
       "</div>\n",
       "<div class=\"cf-error-source relative w-1/3 md:w-full py-15 md:p-0 md:py-8 md:text-left md:border-solid md:border-0 md:border-b md:border-gray-400 overflow-hidden float-left md:float-none text-center\" id=\"cf-host-status\">\n",
       "<div class=\"relative mb-10 md:m-0\">\n",
       "<span class=\"cf-icon-server block md:hidden h-20 bg-center bg-no-repeat\"></span>\n",
       "<span class=\"cf-icon-error w-12 h-12 absolute left-1/2 md:left-auto md:right-0 md:top-0 -ml-6 -bottom-4\"></span>\n",
       "</div>\n",
       "<span class=\"md:block w-full truncate\">twitchtracker.com</span>\n",
       "<h3 class=\"md:inline-block mt-3 md:mt-0 text-2xl text-gray-600 font-light leading-1.3\">Host</h3>\n",
       "<span class=\"leading-1.3 text-2xl text-red-error\">Error</span>\n",
       "</div>\n",
       "</div>\n",
       "</div>\n",
       "</div>\n",
       "<div class=\"w-240 lg:w-full mx-auto mb-8 lg:px-8\">\n",
       "<div class=\"clearfix\">\n",
       "<div class=\"w-1/2 md:w-full float-left pr-6 md:pb-10 md:pr-0 leading-relaxed\">\n",
       "<h2 class=\"text-3xl font-normal leading-1.3 mb-4\">What happened?</h2>\n",
       "<p>There is an unknown connection issue between Cloudflare and the origin web server. As a result, the web page can not be displayed.</p>\n",
       "</div>\n",
       "<div class=\"w-1/2 md:w-full float-left leading-relaxed\">\n",
       "<h2 class=\"text-3xl font-normal leading-1.3 mb-4\">What can I do?</h2>\n",
       "<h3 class=\"text-15 font-semibold mb-2\">If you are a visitor of this website:</h3>\n",
       "<p class=\"mb-6\">Please try again in a few minutes.</p>\n",
       "<h3 class=\"text-15 font-semibold mb-2\">If you are the owner of this website:</h3>\n",
       "<p><span>There is an issue between Cloudflare's cache and your origin web server. Cloudflare monitors for these errors and automatically investigates the cause. To help support the investigation, you can pull the corresponding error log from your web server and submit it our support team.  Please include the Ray ID (which is at the bottom of this error page).</span> <a href=\"https://support.cloudflare.com/hc/en-us/articles/200171936-Error-520\" rel=\"noopener noreferrer\">Additional troubleshooting resources</a>.</p>\n",
       "</div>\n",
       "</div>\n",
       "</div>\n",
       "<div class=\"cf-error-footer cf-wrapper w-240 lg:w-full py-10 sm:py-4 sm:px-8 mx-auto text-center sm:text-left border-solid border-0 border-t border-gray-300\">\n",
       "<p class=\"text-13\">\n",
       "<span class=\"cf-footer-item sm:block sm:mb-1\">Cloudflare Ray ID: <strong class=\"font-semibold\">61450ed89838ba4c</strong></span>\n",
       "<span class=\"cf-footer-separator sm:hidden\">•</span>\n",
       "<span class=\"cf-footer-item sm:block sm:mb-1\"><span>Your IP</span>: 2600:1700:2c50:8070:a847:8fcd:ff0b:2df8</span>\n",
       "<span class=\"cf-footer-separator sm:hidden\">•</span>\n",
       "<span class=\"cf-footer-item sm:block sm:mb-1\"><span>Performance &amp; security by</span> <a href=\"https://www.cloudflare.com/5xx-error-landing\" id=\"brand_link\" rel=\"noopener noreferrer\" target=\"_blank\">Cloudflare</a></span>\n",
       "</p>\n",
       "</div><!-- /.error-footer -->\n",
       "</div>\n",
       "</div>\n",
       "</body>"
      ]
     },
     "execution_count": 4,
     "metadata": {},
     "output_type": "execute_result"
    }
   ],
   "source": [
    "# top_games = {}\n",
    "response = requests.get(url)\n",
    "soup1 =  soup(response.text, 'html.parser') \n",
    "# top_games['title'] = soup1.find_all('body', class_=\"ranked-list\")\n",
    "# table = soup1.find('div', attrs = {'class': 'container ranked-list'})\n",
    "\n",
    "x = soup1.find('body') #, attrs = {'id' : \"content-wrapper\"})\n",
    "# for row in table.findAll('div', attrs = {'class':'ranked-item'}):\n",
    "#     top_games = {}\n",
    "#     top_games['title'] = row.a.text\n",
    "# print(table)\n",
    "x"
   ]
  },
  {
   "cell_type": "code",
   "execution_count": 41,
   "metadata": {},
   "outputs": [
    {
     "ename": "AttributeError",
     "evalue": "'function' object has no attribute 'top_ten'",
     "output_type": "error",
     "traceback": [
      "\u001b[1;31m---------------------------------------------------------------------------\u001b[0m",
      "\u001b[1;31mAttributeError\u001b[0m                            Traceback (most recent call last)",
      "\u001b[1;32m<ipython-input-41-ecd56e0e5b4a>\u001b[0m in \u001b[0;36m<module>\u001b[1;34m\u001b[0m\n\u001b[0;32m      2\u001b[0m \u001b[1;31m# click_link = browser.find_by_css('a').first.has_class('ranked-item')\u001b[0m\u001b[1;33m\u001b[0m\u001b[1;33m\u001b[0m\u001b[1;33m\u001b[0m\u001b[0m\n\u001b[0;32m      3\u001b[0m \u001b[1;31m# click_link.click()\u001b[0m\u001b[1;33m\u001b[0m\u001b[1;33m\u001b[0m\u001b[1;33m\u001b[0m\u001b[0m\n\u001b[1;32m----> 4\u001b[1;33m \u001b[0mBrowser\u001b[0m\u001b[1;33m.\u001b[0m\u001b[0mtop_ten\u001b[0m\u001b[1;33m.\u001b[0m\u001b[0mclick\u001b[0m\u001b[1;33m(\u001b[0m\u001b[1;33m)\u001b[0m\u001b[1;33m\u001b[0m\u001b[1;33m\u001b[0m\u001b[0m\n\u001b[0m",
      "\u001b[1;31mAttributeError\u001b[0m: 'function' object has no attribute 'top_ten'"
     ]
    }
   ],
   "source": [
    "top_ten = soup_obj.find('div', class_ = 'ranked-item')\n",
    "# click_link = browser.find_by_css('a').first.has_class('ranked-item')\n",
    "# click_link.click()\n",
    "Browser.top_ten.click()"
   ]
  },
  {
   "cell_type": "code",
   "execution_count": 9,
   "metadata": {},
   "outputs": [],
   "source": [
    "# top_games\n",
    "top_ten"
   ]
  },
  {
   "cell_type": "code",
   "execution_count": null,
   "metadata": {},
   "outputs": [],
   "source": []
  },
  {
   "cell_type": "code",
   "execution_count": 53,
   "metadata": {},
   "outputs": [],
   "source": [
    "def top_20_games(url):\n",
    "    top_games = {}\n",
    "    response = requests.get(url)\n",
    "    soup1 =  soup(response.text, 'lxml') \n",
    "    top_games['title'] = soup1.find_all('a', class_=\"ri-name\")\n",
    "#     top_games['born'] = soup1.find('span', class_=\"author-born-date\").text.strip()\n",
    "#     top_games['location'] = soup1.find('span', class_=\"author-born-location\").text.strip()\n",
    "#     top_games['description'] = soup1.find('div', class_=\"author-description\").text.strip()\n",
    "    return top_games"
   ]
  },
  {
   "cell_type": "code",
   "execution_count": 54,
   "metadata": {},
   "outputs": [
    {
     "data": {
      "text/plain": [
       "{'title': []}"
      ]
     },
     "execution_count": 54,
     "metadata": {},
     "output_type": "execute_result"
    }
   ],
   "source": [
    "top_20_games(url)\n"
   ]
  },
  {
   "cell_type": "code",
   "execution_count": null,
   "metadata": {},
   "outputs": [],
   "source": []
  }
 ],
 "metadata": {
  "kernelspec": {
   "display_name": "Python 3",
   "language": "python",
   "name": "python3"
  },
  "language_info": {
   "codemirror_mode": {
    "name": "ipython",
    "version": 3
   },
   "file_extension": ".py",
   "mimetype": "text/x-python",
   "name": "python",
   "nbconvert_exporter": "python",
   "pygments_lexer": "ipython3",
   "version": "3.8.3"
  }
 },
 "nbformat": 4,
 "nbformat_minor": 4
}
